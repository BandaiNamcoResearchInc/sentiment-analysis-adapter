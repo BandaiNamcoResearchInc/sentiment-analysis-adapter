{
 "metadata": {
  "language_info": {
   "codemirror_mode": {
    "name": "ipython",
    "version": 3
   },
   "file_extension": ".py",
   "mimetype": "text/x-python",
   "name": "python",
   "nbconvert_exporter": "python",
   "pygments_lexer": "ipython3",
   "version": "3.6.5-final"
  },
  "orig_nbformat": 2,
  "kernelspec": {
   "name": "Python 3.6.5 64-bit ('pytorch_p36': conda)",
   "display_name": "Python 3.6.5 64-bit ('pytorch_p36': conda)",
   "metadata": {
    "interpreter": {
     "hash": "67602bcda1a2979e98e24a2c7b4e81c48fa406727758eae6f9b97279c00e3467"
    }
   }
  }
 },
 "nbformat": 4,
 "nbformat_minor": 2,
 "cells": [
  {
   "source": [
    "# Quick demo for inferencing a sentiment-analysis adapter"
   ],
   "cell_type": "markdown",
   "metadata": {}
  },
  {
   "cell_type": "code",
   "execution_count": null,
   "metadata": {},
   "outputs": [],
   "source": [
    "!pip install git+https://github.com/adapter-hub/adapter-transformers.git\n",
    "!git clone https://github.com/huggingface/transformers\n",
    "!pip install mecab-python3==0.996.5\n",
    "!pip install unidic-lite"
   ]
  },
  {
   "cell_type": "code",
   "execution_count": 1,
   "metadata": {},
   "outputs": [],
   "source": [
    "import torch\n",
    "from transformers import AutoTokenizer, AutoModelForSequenceClassification, AdapterType"
   ]
  },
  {
   "source": [
    "We could load pretrained adapter from the they were saved ($ADAPTER_PATH) as well as the base model"
   ],
   "cell_type": "markdown",
   "metadata": {}
  },
  {
   "cell_type": "code",
   "execution_count": 4,
   "metadata": {},
   "outputs": [],
   "source": [
    "adapter_path = \"$ADAPTER_PATH\""
   ]
  },
  {
   "cell_type": "code",
   "execution_count": 5,
   "metadata": {
    "tags": []
   },
   "outputs": [
    {
     "output_type": "execute_result",
     "data": {
      "text/plain": "'sst-2'"
     },
     "metadata": {},
     "execution_count": 5
    }
   ],
   "source": [
    "model = AutoModelForSequenceClassification.from_pretrained(\"cl-tohoku/bert-base-japanese-whole-word-masking\")\n",
    "tokenizer = AutoTokenizer.from_pretrained(\"cl-tohoku/bert-base-japanese-whole-word-masking\")\n",
    "model.load_adapter(adapter_path)"
   ]
  },
  {
   "cell_type": "code",
   "execution_count": 6,
   "metadata": {},
   "outputs": [],
   "source": [
    "def predict(sentence):\n",
    "  token_ids = tokenizer.convert_tokens_to_ids(tokenizer.tokenize(sentence))\n",
    "  input_tensor = torch.tensor([token_ids])\n",
    "  outputs = model(input_tensor, adapter_names=['sst-2'])\n",
    "  result = torch.argmax(outputs[0]).item()\n",
    "\n",
    "  return 'positive' if result == 1 else 'negative'"
   ]
  },
  {
   "source": [
    "Now we can input sentences to find if they are predicted correctly"
   ],
   "cell_type": "markdown",
   "metadata": {}
  },
  {
   "cell_type": "code",
   "execution_count": 13,
   "metadata": {},
   "outputs": [],
   "source": [
    "assert predict(\"すばらしいですね\") == \"positive\"\n",
    "assert predict(\"全然面白くない\") == \"negative\""
   ]
  }
 ]
}